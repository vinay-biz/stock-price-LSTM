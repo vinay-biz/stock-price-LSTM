{
 "cells": [
  {
   "cell_type": "code",
   "execution_count": null,
   "metadata": {
    "id": "lAnMXuct1nxt"
   },
   "outputs": [],
   "source": [
    "import pandas_datareader as pdr\n",
    "import pandas as pd\n",
    "import matplotlib.pyplot as plt\n",
    "import numpy as np\n",
    "\n",
    "from sklearn.preprocessing import MinMaxScaler\n",
    "import numpy\n",
    "import tensorflow as tf\n",
    "import math\n",
    "from sklearn.metrics import mean_squared_error\n",
    "from numpy import array"
   ]
  },
  {
   "cell_type": "code",
   "execution_count": null,
   "metadata": {
    "id": "1H5JfToM1vio"
   },
   "outputs": [],
   "source": [
    "import pandas_datareader as pdr\n",
    "key=\"Insert Tiingo API Key here\";"
   ]
  },
  {
   "cell_type": "code",
   "execution_count": null,
   "metadata": {
    "colab": {
     "base_uri": "https://localhost:8080/"
    },
    "executionInfo": {
     "elapsed": 74,
     "status": "ok",
     "timestamp": 1680264007289,
     "user": {
      "displayName": "Vinay Pandey",
      "userId": "16318513451474196372"
     },
     "user_tz": -330
    },
    "id": "KwfrPS4411WM",
    "outputId": "a416daac-64a4-4d96-f9c1-afb0cbe14ccb"
   },
   "outputs": [],
   "source": [
    "df = pdr.get_data_tiingo('AAPL', api_key=key)"
   ]
  },
  {
   "cell_type": "code",
   "execution_count": null,
   "metadata": {
    "id": "qt7cuPtZ13vU"
   },
   "outputs": [],
   "source": [
    "df.to_csv('AAPL.csv')"
   ]
  },
  {
   "cell_type": "code",
   "execution_count": null,
   "metadata": {
    "id": "Jp7ql1RX14p5"
   },
   "outputs": [],
   "source": [
    "df=pd.read_csv('AAPL.csv')"
   ]
  },
  {
   "cell_type": "code",
   "execution_count": null,
   "metadata": {
    "colab": {
     "base_uri": "https://localhost:8080/",
     "height": 337
    },
    "executionInfo": {
     "elapsed": 71,
     "status": "ok",
     "timestamp": 1680264007291,
     "user": {
      "displayName": "Vinay Pandey",
      "userId": "16318513451474196372"
     },
     "user_tz": -330
    },
    "id": "zBRr1CQL19uo",
    "outputId": "72ccab04-7851-4f69-e8c2-30bdf1a28605"
   },
   "outputs": [],
   "source": [
    "df.head()\n"
   ]
  },
  {
   "cell_type": "code",
   "execution_count": null,
   "metadata": {
    "colab": {
     "base_uri": "https://localhost:8080/",
     "height": 337
    },
    "executionInfo": {
     "elapsed": 71,
     "status": "ok",
     "timestamp": 1680264007293,
     "user": {
      "displayName": "Vinay Pandey",
      "userId": "16318513451474196372"
     },
     "user_tz": -330
    },
    "id": "ZUMQMz_H2AAM",
    "outputId": "4bed9774-bb54-4bf3-d2da-3ef35cdb1442"
   },
   "outputs": [],
   "source": [
    "df.tail()"
   ]
  },
  {
   "cell_type": "code",
   "execution_count": null,
   "metadata": {
    "id": "HrzbrbG22Ckh"
   },
   "outputs": [],
   "source": [
    "df1=df.reset_index()['close']"
   ]
  },
  {
   "cell_type": "code",
   "execution_count": null,
   "metadata": {
    "colab": {
     "base_uri": "https://localhost:8080/"
    },
    "executionInfo": {
     "elapsed": 74,
     "status": "ok",
     "timestamp": 1680264007298,
     "user": {
      "displayName": "Vinay Pandey",
      "userId": "16318513451474196372"
     },
     "user_tz": -330
    },
    "id": "_y9mURty2EuT",
    "outputId": "a5f821b9-90bd-496c-b99c-cb9db49f6804"
   },
   "outputs": [],
   "source": [
    "df1\n"
   ]
  },
  {
   "cell_type": "code",
   "execution_count": null,
   "metadata": {
    "colab": {
     "base_uri": "https://localhost:8080/",
     "height": 447
    },
    "executionInfo": {
     "elapsed": 72,
     "status": "ok",
     "timestamp": 1680264007299,
     "user": {
      "displayName": "Vinay Pandey",
      "userId": "16318513451474196372"
     },
     "user_tz": -330
    },
    "id": "XC-CVMZD2Gjt",
    "outputId": "87a00cfc-c991-4eba-a87c-d3ebb8312709"
   },
   "outputs": [],
   "source": [
    "plt.plot(df1)\n"
   ]
  },
  {
   "cell_type": "code",
   "execution_count": null,
   "metadata": {
    "colab": {
     "base_uri": "https://localhost:8080/"
    },
    "executionInfo": {
     "elapsed": 69,
     "status": "ok",
     "timestamp": 1680264007300,
     "user": {
      "displayName": "Vinay Pandey",
      "userId": "16318513451474196372"
     },
     "user_tz": -330
    },
    "id": "IptHvVF52MES",
    "outputId": "7f9ef770-dda4-4c03-a8c5-acc679a88a74"
   },
   "outputs": [],
   "source": [
    "### LSTM are sensitive to the scale of the data. so we apply MinMax scaler\n",
    "df1"
   ]
  },
  {
   "cell_type": "code",
   "execution_count": null,
   "metadata": {
    "id": "jaqkx5ay2Pm2"
   },
   "outputs": [],
   "source": [
    "from sklearn.preprocessing import MinMaxScaler\n",
    "scaler=MinMaxScaler(feature_range=(0,1))\n",
    "df1=scaler.fit_transform(np.array(df1).reshape(-1,1))"
   ]
  },
  {
   "cell_type": "code",
   "execution_count": null,
   "metadata": {
    "colab": {
     "base_uri": "https://localhost:8080/"
    },
    "executionInfo": {
     "elapsed": 68,
     "status": "ok",
     "timestamp": 1680264007301,
     "user": {
      "displayName": "Vinay Pandey",
      "userId": "16318513451474196372"
     },
     "user_tz": -330
    },
    "id": "2e7qoY8B2TZS",
    "outputId": "7812e274-b0b5-47ea-c1e3-705256f6087f"
   },
   "outputs": [],
   "source": [
    "print(df1)\n"
   ]
  },
  {
   "cell_type": "code",
   "execution_count": null,
   "metadata": {
    "id": "i53eWgW_2XDq"
   },
   "outputs": [],
   "source": [
    "##splitting dataset into train and test split\n",
    "training_size=int(len(df1)*0.65)\n",
    "test_size=len(df1)-training_size\n",
    "train_data,test_data=df1[0:training_size,:],df1[training_size:len(df1),:1]"
   ]
  },
  {
   "cell_type": "code",
   "execution_count": null,
   "metadata": {
    "colab": {
     "base_uri": "https://localhost:8080/"
    },
    "executionInfo": {
     "elapsed": 66,
     "status": "ok",
     "timestamp": 1680264007302,
     "user": {
      "displayName": "Vinay Pandey",
      "userId": "16318513451474196372"
     },
     "user_tz": -330
    },
    "id": "agLMV0ym2YMS",
    "outputId": "c0c82b52-7a3a-40d0-d2a3-257048269d53"
   },
   "outputs": [],
   "source": [
    "training_size,test_size"
   ]
  },
  {
   "cell_type": "code",
   "execution_count": null,
   "metadata": {
    "colab": {
     "base_uri": "https://localhost:8080/"
    },
    "executionInfo": {
     "elapsed": 65,
     "status": "ok",
     "timestamp": 1680264007303,
     "user": {
      "displayName": "Vinay Pandey",
      "userId": "16318513451474196372"
     },
     "user_tz": -330
    },
    "id": "aoZhNY9k2cFO",
    "outputId": "1c739e6d-040d-4c9b-ea84-7cf14488af92"
   },
   "outputs": [],
   "source": [
    "train_data"
   ]
  },
  {
   "cell_type": "code",
   "execution_count": null,
   "metadata": {
    "id": "wcCGbmcI2h9z"
   },
   "outputs": [],
   "source": [
    "# convert an array of values into a dataset matrix\n",
    "def create_dataset(dataset, time_step=1): dataX, dataY = [], []\n",
    "    for i in range(len(dataset)-time_step-1):\n",
    "        a = dataset[i:(i+time_step), 0]   ###i=0, 0,1,2,3-----99   100\n",
    "        dataX.append(a)\n",
    "        dataY.append(dataset[i + time_step, 0])\n",
    "    return numpy.array(dataX), numpy.array(dataY)"
   ]
  },
  {
   "cell_type": "code",
   "execution_count": null,
   "metadata": {
    "id": "AkPfJxHK2kiH"
   },
   "outputs": [],
   "source": [
    "# reshape into X=t,t+1,t+2,t+3 and Y=t+4\n",
    "time_step = 100\n",
    "X_train, y_train = create_dataset(train_data, time_step)\n",
    "X_test, ytest = create_dataset(test_data, time_step)"
   ]
  },
  {
   "cell_type": "code",
   "execution_count": null,
   "metadata": {
    "colab": {
     "base_uri": "https://localhost:8080/"
    },
    "executionInfo": {
     "elapsed": 66,
     "status": "ok",
     "timestamp": 1680264007309,
     "user": {
      "displayName": "Vinay Pandey",
      "userId": "16318513451474196372"
     },
     "user_tz": -330
    },
    "id": "1qwj3EoF2lV7",
    "outputId": "bf0be832-741b-4c0c-9a16-5ff599da300c"
   },
   "outputs": [],
   "source": [
    "print(X_train.shape), print(y_train.shape)"
   ]
  },
  {
   "cell_type": "code",
   "execution_count": null,
   "metadata": {
    "colab": {
     "base_uri": "https://localhost:8080/"
    },
    "executionInfo": {
     "elapsed": 50,
     "status": "ok",
     "timestamp": 1680264007309,
     "user": {
      "displayName": "Vinay Pandey",
      "userId": "16318513451474196372"
     },
     "user_tz": -330
    },
    "id": "9bYIlgnl2paC",
    "outputId": "925f7bef-cbbe-4760-906b-fc79a3c673f5"
   },
   "outputs": [],
   "source": [
    "print(X_test.shape), print(ytest.shape)"
   ]
  },
  {
   "cell_type": "code",
   "execution_count": null,
   "metadata": {
    "id": "WIu7e6AF2sY9"
   },
   "outputs": [],
   "source": [
    "# reshape input to be [samples, time steps, features] which is required for LSTM\n",
    "X_train =X_train.reshape(X_train.shape[0],X_train.shape[1] , 1)\n",
    "X_test = X_test.reshape(X_test.shape[0],X_test.shape[1] , 1)"
   ]
  },
  {
   "cell_type": "code",
   "execution_count": null,
   "metadata": {
    "id": "LveHBwgO2vN8"
   },
   "outputs": [],
   "source": [
    "# Create the Stacked LSTM model\n",
    "from tensorflow.keras.models import Sequential\n",
    "from tensorflow.keras.layers import Dense\n",
    "from tensorflow.keras.layers import LSTM"
   ]
  },
  {
   "cell_type": "code",
   "execution_count": null,
   "metadata": {
    "id": "uR1GBzbx2wZd"
   },
   "outputs": [],
   "source": [
    "model=Sequential()\n",
    "model.add(LSTM(50,return_sequences=True,input_shape=(100,1)))\n",
    "model.add(LSTM(50,return_sequences=True))\n",
    "model.add(LSTM(50))\n",
    "model.add(Dense(1))\n",
    "model.compile(loss='mean_squared_error',optimizer='adam')"
   ]
  },
  {
   "cell_type": "code",
   "execution_count": null,
   "metadata": {
    "colab": {
     "base_uri": "https://localhost:8080/"
    },
    "executionInfo": {
     "elapsed": 18,
     "status": "ok",
     "timestamp": 1680264009222,
     "user": {
      "displayName": "Vinay Pandey",
      "userId": "16318513451474196372"
     },
     "user_tz": -330
    },
    "id": "QU9sPryC2ywQ",
    "outputId": "f3c0b3d8-aa00-442f-c157-bff1ff504fb1"
   },
   "outputs": [],
   "source": [
    "model.summary()"
   ]
  },
  {
   "cell_type": "code",
   "execution_count": null,
   "metadata": {
    "colab": {
     "base_uri": "https://localhost:8080/"
    },
    "executionInfo": {
     "elapsed": 292628,
     "status": "ok",
     "timestamp": 1680264301839,
     "user": {
      "displayName": "Vinay Pandey",
      "userId": "16318513451474196372"
     },
     "user_tz": -330
    },
    "id": "QbhopSyL23uu",
    "outputId": "2bc49ce6-cb72-40e4-bebf-d313204ccfc0"
   },
   "outputs": [],
   "source": [
    "model.fit(X_train,y_train,validation_data=(X_test,ytest),epochs=100,batch_size=64,verbose=1)"
   ]
  },
  {
   "cell_type": "code",
   "execution_count": null,
   "metadata": {
    "colab": {
     "base_uri": "https://localhost:8080/",
     "height": 35
    },
    "executionInfo": {
     "elapsed": 24,
     "status": "ok",
     "timestamp": 1680264301839,
     "user": {
      "displayName": "Vinay Pandey",
      "userId": "16318513451474196372"
     },
     "user_tz": -330
    },
    "id": "tlGdE_py28M8",
    "outputId": "575f556c-214e-421d-f85e-7600470a6e0e"
   },
   "outputs": [],
   "source": [
    "tf.__version__"
   ]
  },
  {
   "cell_type": "code",
   "execution_count": null,
   "metadata": {
    "colab": {
     "base_uri": "https://localhost:8080/"
    },
    "executionInfo": {
     "elapsed": 3777,
     "status": "ok",
     "timestamp": 1680264305611,
     "user": {
      "displayName": "Vinay Pandey",
      "userId": "16318513451474196372"
     },
     "user_tz": -330
    },
    "id": "yQW2lGki2_pM",
    "outputId": "24f00bea-504b-41d8-b527-18a6daede13a"
   },
   "outputs": [],
   "source": [
    "### Lets Do the prediction and check performance metrics\n",
    "train_predict=model.predict(X_train)\n",
    "test_predict=model.predict(X_test)"
   ]
  },
  {
   "cell_type": "code",
   "execution_count": null,
   "metadata": {
    "id": "SMGS5IlC3CIS"
   },
   "outputs": [],
   "source": [
    "##Transformback to original form\n",
    "train_predict=scaler.inverse_transform(train_predict)\n",
    "test_predict=scaler.inverse_transform(test_predict)"
   ]
  },
  {
   "cell_type": "code",
   "execution_count": null,
   "metadata": {
    "colab": {
     "base_uri": "https://localhost:8080/"
    },
    "executionInfo": {
     "elapsed": 26,
     "status": "ok",
     "timestamp": 1680264305612,
     "user": {
      "displayName": "Vinay Pandey",
      "userId": "16318513451474196372"
     },
     "user_tz": -330
    },
    "id": "FbMHjvRk3EJy",
    "outputId": "0a1992a8-3b04-486f-f585-aa0f86daf6d7"
   },
   "outputs": [],
   "source": [
    "### Calculate RMSE performance metrics\n",
    "import math\n",
    "from sklearn.metrics import mean_squared_error\n",
    "math.sqrt(mean_squared_error(y_train,train_predict))"
   ]
  },
  {
   "cell_type": "code",
   "execution_count": null,
   "metadata": {
    "colab": {
     "base_uri": "https://localhost:8080/"
    },
    "executionInfo": {
     "elapsed": 23,
     "status": "ok",
     "timestamp": 1680264305613,
     "user": {
      "displayName": "Vinay Pandey",
      "userId": "16318513451474196372"
     },
     "user_tz": -330
    },
    "id": "-3EejG3N3GIR",
    "outputId": "db9d0033-afcd-4d71-f8fc-58f415f95edc"
   },
   "outputs": [],
   "source": [
    "### Test Data RMSE\n",
    "math.sqrt(mean_squared_error(ytest,test_predict))"
   ]
  },
  {
   "cell_type": "code",
   "execution_count": null,
   "metadata": {
    "colab": {
     "base_uri": "https://localhost:8080/",
     "height": 430
    },
    "executionInfo": {
     "elapsed": 20,
     "status": "ok",
     "timestamp": 1680264305613,
     "user": {
      "displayName": "Vinay Pandey",
      "userId": "16318513451474196372"
     },
     "user_tz": -330
    },
    "id": "9iqI2TCd3Ihq",
    "outputId": "52e619a5-bb72-40c8-f3fa-fa7dd71c34b9"
   },
   "outputs": [],
   "source": [
    "### Plotting\n",
    "# shift train predictions for plotting\n",
    "look_back=100\n",
    "trainPredictPlot = numpy.empty_like(df1)\n",
    "trainPredictPlot[:, :] = np.nan\n",
    "trainPredictPlot[look_back:len(train_predict)+look_back, :] = train_predict\n",
    "# shift test predictions for plotting\n",
    "testPredictPlot = numpy.empty_like(df1)\n",
    "testPredictPlot[:, :] = numpy.nan\n",
    "testPredictPlot[len(train_predict)+(look_back*2)+1:len(df1)-1, :] = test_predict\n",
    "# plot baseline and predictions\n",
    "plt.plot(scaler.inverse_transform(df1))\n",
    "plt.plot(trainPredictPlot)\n",
    "plt.plot(testPredictPlot)\n",
    "plt.show()"
   ]
  },
  {
   "cell_type": "code",
   "execution_count": null,
   "metadata": {
    "colab": {
     "base_uri": "https://localhost:8080/"
    },
    "executionInfo": {
     "elapsed": 20,
     "status": "ok",
     "timestamp": 1680264305615,
     "user": {
      "displayName": "Vinay Pandey",
      "userId": "16318513451474196372"
     },
     "user_tz": -330
    },
    "id": "D40ygMA93Ky_",
    "outputId": "a6a7d378-a7b9-4320-8d30-b725f586a873"
   },
   "outputs": [],
   "source": [
    "len(test_data)"
   ]
  },
  {
   "cell_type": "code",
   "execution_count": null,
   "metadata": {
    "colab": {
     "base_uri": "https://localhost:8080/"
    },
    "executionInfo": {
     "elapsed": 19,
     "status": "ok",
     "timestamp": 1680264305616,
     "user": {
      "displayName": "Vinay Pandey",
      "userId": "16318513451474196372"
     },
     "user_tz": -330
    },
    "id": "OQwSr1LL3M9R",
    "outputId": "251fa913-8dc4-4898-fa08-c19063fd6749"
   },
   "outputs": [],
   "source": [
    "x_input=test_data[341:].reshape(1,-1)\n",
    "x_input.shape"
   ]
  },
  {
   "cell_type": "code",
   "execution_count": null,
   "metadata": {
    "id": "TWcXn9_W3Pyw"
   },
   "outputs": [],
   "source": [
    "temp_input=list(x_input)\n",
    "temp_input=temp_input[0].tolist()"
   ]
  },
  {
   "cell_type": "code",
   "execution_count": null,
   "metadata": {
    "colab": {
     "base_uri": "https://localhost:8080/"
    },
    "executionInfo": {
     "elapsed": 17,
     "status": "ok",
     "timestamp": 1680264305617,
     "user": {
      "displayName": "Vinay Pandey",
      "userId": "16318513451474196372"
     },
     "user_tz": -330
    },
    "id": "I76Jes9N3Rk8",
    "outputId": "48008bf5-7c1e-4e05-8c05-8f5a48259614"
   },
   "outputs": [],
   "source": [
    "temp_input"
   ]
  },
  {
   "cell_type": "code",
   "execution_count": null,
   "metadata": {
    "colab": {
     "base_uri": "https://localhost:8080/"
    },
    "executionInfo": {
     "elapsed": 2460,
     "status": "ok",
     "timestamp": 1680264308063,
     "user": {
      "displayName": "Vinay Pandey",
      "userId": "16318513451474196372"
     },
     "user_tz": -330
    },
    "id": "BELys3d43UvZ",
    "outputId": "efc41abe-3ea6-4372-e546-2c0d2a5d3399"
   },
   "outputs": [],
   "source": [
    "# demonstrate prediction for next 10 days\n",
    "from numpy import array\n",
    "\n",
    "lst_output=[]\n",
    "n_steps=100\n",
    "i=0\n",
    "while(i<30):\n",
    "\n",
    "    if(len(temp_input)>100):\n",
    "        #print(temp_input)\n",
    "        x_input=np.array(temp_input[1:])\n",
    "        print(\"{} day input {}\".format(i,x_input))\n",
    "        x_input=x_input.reshape(1,-1)\n",
    "        x_input = x_input.reshape((1, n_steps, 1))\n",
    "        #print(x_input)\n",
    "        yhat = model.predict(x_input, verbose=0)\n",
    "        print(\"{} day output {}\".format(i,yhat))\n",
    "        temp_input.extend(yhat[0].tolist())\n",
    "        temp_input=temp_input[1:]\n",
    "        #print(temp_input)\n",
    "        lst_output.extend(yhat.tolist())\n",
    "        i=i+1\n",
    "    else:\n",
    "        x_input = x_input.reshape((1, n_steps,1))\n",
    "        yhat = model.predict(x_input, verbose=0)\n",
    "        print(yhat[0])\n",
    "        temp_input.extend(yhat[0].tolist())\n",
    "        print(len(temp_input))\n",
    "        lst_output.extend(yhat.tolist())\n",
    "        i=i+1\n",
    "\n",
    "\n",
    "print(lst_output)"
   ]
  },
  {
   "cell_type": "code",
   "execution_count": null,
   "metadata": {
    "id": "-N7ZTOdj3WED"
   },
   "outputs": [],
   "source": [
    "day_new=np.arange(1,101)\n",
    "day_pred=np.arange(101,130)"
   ]
  },
  {
   "cell_type": "code",
   "execution_count": null,
   "metadata": {
    "colab": {
     "base_uri": "https://localhost:8080/"
    },
    "executionInfo": {
     "elapsed": 18,
     "status": "ok",
     "timestamp": 1680264308064,
     "user": {
      "displayName": "Vinay Pandey",
      "userId": "16318513451474196372"
     },
     "user_tz": -330
    },
    "id": "-3oGcyMq3f-q",
    "outputId": "1ee1f233-6c3c-4a7b-b6b0-b545025c7171"
   },
   "outputs": [],
   "source": [
    "len(df1)"
   ]
  },
  {
   "cell_type": "code",
   "execution_count": null,
   "metadata": {
    "id": "oxxUbw6F57ae"
   },
   "outputs": [],
   "source": [
    "day_new = np.arange(len(df1[1158:]))\n",
    "day_pred = np.arange(len(df1[1158:]) - 1, len(df1[1158:]) + len(lst_output) - 1)\n"
   ]
  },
  {
   "cell_type": "code",
   "execution_count": null,
   "metadata": {
    "colab": {
     "base_uri": "https://localhost:8080/",
     "height": 447
    },
    "executionInfo": {
     "elapsed": 1652,
     "status": "ok",
     "timestamp": 1680264309710,
     "user": {
      "displayName": "Vinay Pandey",
      "userId": "16318513451474196372"
     },
     "user_tz": -330
    },
    "id": "ho_FEVim3iCt",
    "outputId": "65fd2331-259f-4771-bfcd-d6829ebc8d6c"
   },
   "outputs": [],
   "source": [
    "plt.plot(day_new,scaler.inverse_transform(df1[1158:]))\n",
    "plt.plot(day_pred,scaler.inverse_transform(lst_output))"
   ]
  },
  {
   "cell_type": "code",
   "execution_count": null,
   "metadata": {
    "colab": {
     "base_uri": "https://localhost:8080/",
     "height": 447
    },
    "executionInfo": {
     "elapsed": 51,
     "status": "ok",
     "timestamp": 1680264309711,
     "user": {
      "displayName": "Vinay Pandey",
      "userId": "16318513451474196372"
     },
     "user_tz": -330
    },
    "id": "9-bJ-yWW3j5d",
    "outputId": "3ee722d2-e463-4e2d-d3f0-44d6f1502f4b"
   },
   "outputs": [],
   "source": [
    "df3=df1.tolist()\n",
    "df3.extend(lst_output)\n",
    "plt.plot(df3[1200:])"
   ]
  },
  {
   "cell_type": "code",
   "execution_count": null,
   "metadata": {
    "id": "nTTfVPj53lz1"
   },
   "outputs": [],
   "source": [
    "df3=scaler.inverse_transform(df3).tolist()"
   ]
  },
  {
   "cell_type": "code",
   "execution_count": null,
   "metadata": {
    "colab": {
     "base_uri": "https://localhost:8080/",
     "height": 447
    },
    "executionInfo": {
     "elapsed": 45,
     "status": "ok",
     "timestamp": 1680264309712,
     "user": {
      "displayName": "Vinay Pandey",
      "userId": "16318513451474196372"
     },
     "user_tz": -330
    },
    "id": "POhKcnsV3n0c",
    "outputId": "016aa72e-17e6-4dac-d210-c4d872cead81"
   },
   "outputs": [],
   "source": [
    "\n",
    "plt.plot(df3)"
   ]
  }
 ],
 "metadata": {
  "colab": {
   "authorship_tag": "ABX9TyP5Gcjcl1+Z817JWz8NWaec",
   "provenance": []
  },
  "kernelspec": {
   "display_name": "Python 3 (ipykernel)",
   "language": "python",
   "name": "python3"
  },
  "language_info": {
   "codemirror_mode": {
    "name": "ipython",
    "version": 3
   },
   "file_extension": ".py",
   "mimetype": "text/x-python",
   "name": "python",
   "nbconvert_exporter": "python",
   "pygments_lexer": "ipython3",
   "version": "3.11.3"
  }
 },
 "nbformat": 4,
 "nbformat_minor": 1
}
